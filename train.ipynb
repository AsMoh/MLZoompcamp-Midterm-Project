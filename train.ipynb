{
 "cells": [
  {
   "cell_type": "code",
   "execution_count": 1,
   "id": "1a720736",
   "metadata": {},
   "outputs": [],
   "source": [
    "import pandas as pd\n",
    "import numpy as np\n",
    "import seaborn as sns\n",
    "import matplotlib.pyplot as plt\n",
    "pd.set_option('display.width', 4000)\n",
    "pd.set_option('display.max_colwidth', 4000)\n",
    "\n",
    "from sklearn.model_selection import train_test_split\n",
    "from sklearn.feature_extraction import DictVectorizer\n",
    "\n",
    "from sklearn.preprocessing import StandardScaler\n",
    "from sklearn.decomposition import PCA as sklearnPCA\n",
    "\n",
    "from sklearn.ensemble import RandomForestClassifier\n",
    "from sklearn.metrics import accuracy_score , recall_score, precision_score\n",
    "from sklearn.metrics import roc_curve ,confusion_matrix , auc, roc_auc_score, classification_report , f1_score\n"
   ]
  },
  {
   "cell_type": "code",
   "execution_count": 2,
   "id": "98c4e232",
   "metadata": {},
   "outputs": [],
   "source": [
    "data=pd.read_csv('UNSW_NB15_training-set.csv')"
   ]
  },
  {
   "cell_type": "code",
   "execution_count": 3,
   "id": "2260be2d",
   "metadata": {},
   "outputs": [],
   "source": [
    "df=data.copy()"
   ]
  },
  {
   "cell_type": "code",
   "execution_count": 4,
   "id": "964d39b5",
   "metadata": {},
   "outputs": [],
   "source": [
    "## is_ftp_login is binary feature, it should be either 0 or 1\n",
    "df = df.drop(index=df[df['is_ftp_login']==2].index)\n"
   ]
  },
  {
   "cell_type": "code",
   "execution_count": 5,
   "id": "a6020ac6",
   "metadata": {},
   "outputs": [],
   "source": [
    "cols_to_delete=['id', 'attack_cat', 'proto']"
   ]
  },
  {
   "cell_type": "code",
   "execution_count": 6,
   "id": "e18c0da3",
   "metadata": {},
   "outputs": [],
   "source": [
    "df=df.drop(cols_to_delete, axis=1)\n"
   ]
  },
  {
   "cell_type": "code",
   "execution_count": 7,
   "id": "3659b58d",
   "metadata": {},
   "outputs": [],
   "source": [
    "df_full_train, df_test = train_test_split(df, test_size=0.2, random_state=1)\n",
    "\n",
    "df_full_train = df_full_train.reset_index(drop=True)\n",
    "df_test = df_test.reset_index(drop=True)\n",
    "\n",
    "y_train = df_full_train.label\n",
    "y_test = df_test.label\n",
    "\n",
    "del df_full_train['label']\n",
    "del df_test['label']"
   ]
  },
  {
   "cell_type": "code",
   "execution_count": 8,
   "id": "32504526",
   "metadata": {},
   "outputs": [],
   "source": [
    "categorical_cols=['service', 'state'  , 'is_ftp_login' , 'ct_ftp_cmd' , 'is_sm_ips_ports' ]\n",
    "numerical_cols= list(df.columns.drop(['service', 'state'  , 'is_ftp_login' , 'ct_ftp_cmd' , 'is_sm_ips_ports' , 'label']))"
   ]
  },
  {
   "cell_type": "code",
   "execution_count": 9,
   "id": "fd5fcb2d",
   "metadata": {},
   "outputs": [
    {
     "name": "stdout",
     "output_type": "stream",
     "text": [
      "['dur', 'spkts', 'dpkts', 'sbytes', 'dbytes', 'rate', 'sttl', 'dttl', 'sload', 'dload', 'sloss', 'dloss', 'sinpkt', 'dinpkt', 'sjit', 'djit', 'swin', 'stcpb', 'dtcpb', 'dwin', 'tcprtt', 'synack', 'ackdat', 'smean', 'dmean', 'trans_depth', 'response_body_len', 'ct_srv_src', 'ct_state_ttl', 'ct_dst_ltm', 'ct_src_dport_ltm', 'ct_dst_sport_ltm', 'ct_dst_src_ltm', 'ct_flw_http_mthd', 'ct_src_ltm', 'ct_srv_dst']\n"
     ]
    }
   ],
   "source": [
    "print(numerical_cols)"
   ]
  },
  {
   "cell_type": "code",
   "execution_count": 10,
   "id": "ff848457",
   "metadata": {},
   "outputs": [],
   "source": [
    "### Converting categorical features to numerical data using DictVectorizer\n",
    "\n",
    "dv = DictVectorizer(sparse=False)\n",
    "\n",
    "train_dict = df_full_train[categorical_cols].to_dict(orient='records')\n",
    "X_train_categorical = dv.fit_transform(train_dict )\n",
    "\n",
    "test_dict = df_test[categorical_cols].to_dict(orient='records')\n",
    "X_test_categorical = dv.transform(test_dict)"
   ]
  },
  {
   "cell_type": "code",
   "execution_count": 11,
   "id": "bacc0a98",
   "metadata": {},
   "outputs": [
    {
     "data": {
      "text/plain": [
       "23"
      ]
     },
     "execution_count": 11,
     "metadata": {},
     "output_type": "execute_result"
    }
   ],
   "source": [
    "len(dv.feature_names_)"
   ]
  },
  {
   "cell_type": "code",
   "execution_count": 12,
   "id": "fbcadcac",
   "metadata": {},
   "outputs": [],
   "source": [
    "##standardized numerical data\n",
    "\n",
    "sc = StandardScaler()\n",
    "X_std_train_numerical = sc.fit_transform(df_full_train[numerical_cols])\n",
    "X_std_test_numerical  = sc.transform(df_test[numerical_cols])  \n",
    "\n",
    "### combing the numerial arrays & categorical arrays\n",
    "X_std_train = np.concatenate((X_train_categorical,X_std_train_numerical) , axis=1)\n",
    "X_std_test = np.concatenate((X_test_categorical,X_std_test_numerical) , axis=1)"
   ]
  },
  {
   "cell_type": "code",
   "execution_count": 13,
   "id": "70387fb6",
   "metadata": {},
   "outputs": [
    {
     "data": {
      "text/plain": [
       "((65862, 59), (16466, 59))"
      ]
     },
     "execution_count": 13,
     "metadata": {},
     "output_type": "execute_result"
    }
   ],
   "source": [
    "X_std_train.shape, X_std_test.shape"
   ]
  },
  {
   "cell_type": "code",
   "execution_count": 14,
   "id": "df184914",
   "metadata": {},
   "outputs": [],
   "source": [
    "pca = sklearnPCA()\n",
    "sklearn_pca = pca.fit(X_std_train)\n",
    "train_pca = sklearn_pca.transform(X_std_train)\n",
    "test_pca = sklearn_pca.transform(X_std_test)\n",
    "\n",
    "var_per = sklearn_pca.explained_variance_ratio_\n",
    "cum_var_per = sklearn_pca.explained_variance_ratio_.cumsum()\n",
    "\n",
    "n_comp=len(cum_var_per[cum_var_per <= 0.90])\n",
    "\n",
    "sklearn_pca = sklearnPCA(n_components=n_comp)\n",
    "train_pca = sklearn_pca.fit_transform(X_std_train)\n",
    "test_pca = sklearn_pca.transform(X_std_test)"
   ]
  },
  {
   "cell_type": "code",
   "execution_count": 15,
   "id": "b2afd164",
   "metadata": {},
   "outputs": [],
   "source": [
    "X_train= train_pca\n",
    "X_test= test_pca"
   ]
  },
  {
   "cell_type": "code",
   "execution_count": 16,
   "id": "01922320",
   "metadata": {},
   "outputs": [],
   "source": [
    "import xgboost as xgb"
   ]
  },
  {
   "cell_type": "code",
   "execution_count": 17,
   "id": "161244f3",
   "metadata": {},
   "outputs": [],
   "source": [
    "eta=0.1\n",
    "max_depth=8\n",
    "\n",
    "dtrain = xgb.DMatrix(X_train, label=y_train)\n",
    "\n",
    "dtest = xgb.DMatrix(X_test, label=y_test)"
   ]
  },
  {
   "cell_type": "code",
   "execution_count": 18,
   "id": "869f364d",
   "metadata": {},
   "outputs": [],
   "source": [
    "watchlist = [(dtrain, 'train'), (dtest, 'test')]\n"
   ]
  },
  {
   "cell_type": "code",
   "execution_count": 19,
   "id": "62b140e7",
   "metadata": {},
   "outputs": [
    {
     "name": "stdout",
     "output_type": "stream",
     "text": [
      "[0]\ttrain-auc:0.96040\ttest-auc:0.95652\n",
      "[5]\ttrain-auc:0.96923\ttest-auc:0.96596\n",
      "[10]\ttrain-auc:0.97492\ttest-auc:0.97140\n",
      "[15]\ttrain-auc:0.97880\ttest-auc:0.97535\n",
      "[20]\ttrain-auc:0.98087\ttest-auc:0.97686\n",
      "[25]\ttrain-auc:0.98239\ttest-auc:0.97814\n",
      "[30]\ttrain-auc:0.98315\ttest-auc:0.97864\n",
      "[35]\ttrain-auc:0.98362\ttest-auc:0.97897\n",
      "[40]\ttrain-auc:0.98412\ttest-auc:0.97921\n",
      "[45]\ttrain-auc:0.98480\ttest-auc:0.97967\n",
      "[50]\ttrain-auc:0.98532\ttest-auc:0.97998\n",
      "[55]\ttrain-auc:0.98601\ttest-auc:0.98046\n",
      "[60]\ttrain-auc:0.98652\ttest-auc:0.98076\n",
      "[65]\ttrain-auc:0.98699\ttest-auc:0.98097\n",
      "[70]\ttrain-auc:0.98825\ttest-auc:0.98134\n",
      "[75]\ttrain-auc:0.98917\ttest-auc:0.98158\n",
      "[80]\ttrain-auc:0.99006\ttest-auc:0.98201\n",
      "[85]\ttrain-auc:0.99078\ttest-auc:0.98222\n",
      "[90]\ttrain-auc:0.99153\ttest-auc:0.98237\n",
      "[95]\ttrain-auc:0.99215\ttest-auc:0.98261\n",
      "[100]\ttrain-auc:0.99242\ttest-auc:0.98271\n",
      "[105]\ttrain-auc:0.99304\ttest-auc:0.98294\n",
      "[110]\ttrain-auc:0.99349\ttest-auc:0.98300\n",
      "[115]\ttrain-auc:0.99400\ttest-auc:0.98316\n",
      "[120]\ttrain-auc:0.99425\ttest-auc:0.98320\n",
      "[125]\ttrain-auc:0.99468\ttest-auc:0.98323\n",
      "[130]\ttrain-auc:0.99510\ttest-auc:0.98328\n",
      "[135]\ttrain-auc:0.99535\ttest-auc:0.98339\n",
      "[140]\ttrain-auc:0.99561\ttest-auc:0.98349\n",
      "[145]\ttrain-auc:0.99577\ttest-auc:0.98354\n",
      "[150]\ttrain-auc:0.99594\ttest-auc:0.98364\n",
      "[155]\ttrain-auc:0.99626\ttest-auc:0.98375\n",
      "[160]\ttrain-auc:0.99658\ttest-auc:0.98387\n",
      "[165]\ttrain-auc:0.99676\ttest-auc:0.98391\n",
      "[170]\ttrain-auc:0.99688\ttest-auc:0.98397\n",
      "[175]\ttrain-auc:0.99711\ttest-auc:0.98402\n",
      "[180]\ttrain-auc:0.99730\ttest-auc:0.98405\n",
      "[185]\ttrain-auc:0.99751\ttest-auc:0.98412\n",
      "[190]\ttrain-auc:0.99756\ttest-auc:0.98415\n",
      "[195]\ttrain-auc:0.99763\ttest-auc:0.98417\n",
      "[199]\ttrain-auc:0.99776\ttest-auc:0.98423\n"
     ]
    }
   ],
   "source": [
    "xgb_params = {\n",
    "    'eta': eta, \n",
    "    'max_depth': max_depth,\n",
    "    'min_child_weight': 1,\n",
    "    \n",
    "    'objective': 'binary:logistic',\n",
    "    'eval_metric': 'auc',\n",
    "\n",
    "    'nthread': 8,\n",
    "    'seed': 1,\n",
    "    'verbosity': 1,\n",
    "}\n",
    "\n",
    "\n",
    "\n",
    "model = xgb.train(xgb_params, dtrain, num_boost_round=200,\n",
    "                  verbose_eval=5,\n",
    "                  evals=watchlist)"
   ]
  },
  {
   "cell_type": "code",
   "execution_count": 20,
   "id": "edd9760e",
   "metadata": {},
   "outputs": [
    {
     "name": "stdout",
     "output_type": "stream",
     "text": [
      "[[6970  346]\n",
      " [ 845 8305]]\n",
      "              precision    recall  f1-score   support\n",
      "\n",
      "           0       0.89      0.95      0.92      7316\n",
      "           1       0.96      0.91      0.93      9150\n",
      "\n",
      "    accuracy                           0.93     16466\n",
      "   macro avg       0.93      0.93      0.93     16466\n",
      "weighted avg       0.93      0.93      0.93     16466\n",
      "\n"
     ]
    },
    {
     "data": {
      "text/plain": [
       "{'classiffier': 'XGboost',\n",
       " 'accuracy': 0.928,\n",
       " 'recall': 0.908,\n",
       " 'precision': 0.96,\n",
       " 'f1-score': 0.933,\n",
       " 'roc_auc_score': 0.984}"
      ]
     },
     "execution_count": 20,
     "metadata": {},
     "output_type": "execute_result"
    }
   ],
   "source": [
    "#y_pred = model.predict_proba(X_val)[:, 1] \n",
    "scores={}\n",
    "y_pred=model.predict(dtest)\n",
    "y_predicted= (y_pred>=0.5).astype(int)\n",
    "print(confusion_matrix(y_test, y_predicted))\n",
    "print(classification_report(y_test, y_predicted))\n",
    "\n",
    "fpr,tpr, th=roc_curve(y_test, y_predicted)\n",
    "   \n",
    "scores= {'classiffier': \"XGboost\" , 'accuracy':round(accuracy_score(y_test,y_predicted),3)\n",
    "                , 'recall':round(recall_score(y_test,y_predicted),3)\n",
    "                , 'precision': round(precision_score(y_test,y_predicted),3)\n",
    "              , 'f1-score': round(f1_score(y_test,y_predicted), 3)  , 'roc_auc_score': round(roc_auc_score(y_test, y_pred),3)}\n",
    "\n",
    "scores"
   ]
  },
  {
   "cell_type": "code",
   "execution_count": 21,
   "id": "91a18fc3",
   "metadata": {},
   "outputs": [
    {
     "name": "stdout",
     "output_type": "stream",
     "text": [
      "0.06614746\n"
     ]
    }
   ],
   "source": [
    "print(y_pred[0])"
   ]
  },
  {
   "cell_type": "code",
   "execution_count": 22,
   "id": "cc50a798",
   "metadata": {},
   "outputs": [
    {
     "name": "stdout",
     "output_type": "stream",
     "text": [
      "0.999382\n"
     ]
    }
   ],
   "source": [
    "print(y_pred[400])"
   ]
  },
  {
   "cell_type": "code",
   "execution_count": 23,
   "id": "8bedbe43",
   "metadata": {},
   "outputs": [],
   "source": [
    "import bentoml"
   ]
  },
  {
   "cell_type": "code",
   "execution_count": 24,
   "id": "ad440659",
   "metadata": {},
   "outputs": [
    {
     "data": {
      "text/plain": [
       "Model(tag=\"cyber_attack_model:ecjll53bh2vcr5bz\", path=\"C:\\Users\\Asia\\bentoml\\models\\cyber_attack_model\\ecjll53bh2vcr5bz\\\")"
      ]
     },
     "execution_count": 24,
     "metadata": {},
     "output_type": "execute_result"
    }
   ],
   "source": [
    "bentoml.xgboost.save_model(\n",
    "    'cyber_attack_model',\n",
    "    model,\n",
    "    custom_objects={\n",
    "        'dictVectorizer': dv,\n",
    "        'StandardScaler': sc,\n",
    "        'PCA':sklearn_pca\n",
    "              \n",
    "        \n",
    "    },signatures={\n",
    "\"predict\": {\n",
    "    \"batchable\":True,\n",
    "    \"batch_dim\":0\n",
    "}\n",
    "    }\n",
    ")"
   ]
  },
  {
   "cell_type": "code",
   "execution_count": 25,
   "id": "a58f60a9",
   "metadata": {},
   "outputs": [],
   "source": [
    "import json"
   ]
  },
  {
   "cell_type": "code",
   "execution_count": 26,
   "id": "0a82ac05",
   "metadata": {},
   "outputs": [
    {
     "name": "stdout",
     "output_type": "stream",
     "text": [
      "{\n",
      "  \"dur\": 0.453854,\n",
      "  \"service\": \"-\",\n",
      "  \"state\": \"FIN\",\n",
      "  \"spkts\": 10,\n",
      "  \"dpkts\": 6,\n",
      "  \"sbytes\": 714,\n",
      "  \"dbytes\": 268,\n",
      "  \"rate\": 33.050276,\n",
      "  \"sttl\": 254,\n",
      "  \"dttl\": 252,\n",
      "  \"sload\": 11334.04102,\n",
      "  \"dload\": 3948.40625,\n",
      "  \"sloss\": 2,\n",
      "  \"dloss\": 0,\n",
      "  \"sinpkt\": 6578.2406,\n",
      "  \"dinpkt\": 10961.736,\n",
      "  \"sjit\": 653840.0681,\n",
      "  \"djit\": 24336.61,\n",
      "  \"swin\": 255,\n",
      "  \"stcpb\": 2906150044,\n",
      "  \"dtcpb\": 3830409389,\n",
      "  \"dwin\": 255,\n",
      "  \"tcprtt\": 0.177939,\n",
      "  \"synack\": 0.089164,\n",
      "  \"ackdat\": 0.088775,\n",
      "  \"smean\": 71,\n",
      "  \"dmean\": 45,\n",
      "  \"trans_depth\": 0,\n",
      "  \"response_body_len\": 0,\n",
      "  \"ct_srv_src\": 6,\n",
      "  \"ct_state_ttl\": 1,\n",
      "  \"ct_dst_ltm\": 4,\n",
      "  \"ct_src_dport_ltm\": 4,\n",
      "  \"ct_dst_sport_ltm\": 4,\n",
      "  \"ct_dst_src_ltm\": 6,\n",
      "  \"is_ftp_login\": 0,\n",
      "  \"ct_ftp_cmd\": 0,\n",
      "  \"ct_flw_http_mthd\": 0,\n",
      "  \"ct_src_ltm\": 4,\n",
      "  \"ct_srv_dst\": 7,\n",
      "  \"is_sm_ips_ports\": 0\n",
      "}\n"
     ]
    }
   ],
   "source": [
    "request = df_test.iloc[0].to_dict()\n",
    "print(json.dumps(request, indent=2))"
   ]
  },
  {
   "cell_type": "code",
   "execution_count": 27,
   "id": "d5b8da1b",
   "metadata": {},
   "outputs": [
    {
     "name": "stdout",
     "output_type": "stream",
     "text": [
      "{\n",
      "  \"dur\": 4e-06,\n",
      "  \"service\": \"dns\",\n",
      "  \"state\": \"INT\",\n",
      "  \"spkts\": 2,\n",
      "  \"dpkts\": 0,\n",
      "  \"sbytes\": 114,\n",
      "  \"dbytes\": 0,\n",
      "  \"rate\": 250000.0006,\n",
      "  \"sttl\": 254,\n",
      "  \"dttl\": 0,\n",
      "  \"sload\": 114000000.0,\n",
      "  \"dload\": 0.0,\n",
      "  \"sloss\": 0,\n",
      "  \"dloss\": 0,\n",
      "  \"sinpkt\": 0.004,\n",
      "  \"dinpkt\": 0.0,\n",
      "  \"sjit\": 0.0,\n",
      "  \"djit\": 0.0,\n",
      "  \"swin\": 0,\n",
      "  \"stcpb\": 0,\n",
      "  \"dtcpb\": 0,\n",
      "  \"dwin\": 0,\n",
      "  \"tcprtt\": 0.0,\n",
      "  \"synack\": 0.0,\n",
      "  \"ackdat\": 0.0,\n",
      "  \"smean\": 57,\n",
      "  \"dmean\": 0,\n",
      "  \"trans_depth\": 0,\n",
      "  \"response_body_len\": 0,\n",
      "  \"ct_srv_src\": 7,\n",
      "  \"ct_state_ttl\": 2,\n",
      "  \"ct_dst_ltm\": 7,\n",
      "  \"ct_src_dport_ltm\": 7,\n",
      "  \"ct_dst_sport_ltm\": 3,\n",
      "  \"ct_dst_src_ltm\": 7,\n",
      "  \"is_ftp_login\": 0,\n",
      "  \"ct_ftp_cmd\": 0,\n",
      "  \"ct_flw_http_mthd\": 0,\n",
      "  \"ct_src_ltm\": 8,\n",
      "  \"ct_srv_dst\": 7,\n",
      "  \"is_sm_ips_ports\": 0\n",
      "}\n"
     ]
    }
   ],
   "source": [
    "request = df_test.iloc[400].to_dict()\n",
    "print(json.dumps(request, indent=2))"
   ]
  },
  {
   "cell_type": "code",
   "execution_count": null,
   "id": "0c1d2729",
   "metadata": {},
   "outputs": [],
   "source": []
  }
 ],
 "metadata": {
  "kernelspec": {
   "display_name": "Python 3 (ipykernel)",
   "language": "python",
   "name": "python3"
  },
  "language_info": {
   "codemirror_mode": {
    "name": "ipython",
    "version": 3
   },
   "file_extension": ".py",
   "mimetype": "text/x-python",
   "name": "python",
   "nbconvert_exporter": "python",
   "pygments_lexer": "ipython3",
   "version": "3.9.12"
  }
 },
 "nbformat": 4,
 "nbformat_minor": 5
}
